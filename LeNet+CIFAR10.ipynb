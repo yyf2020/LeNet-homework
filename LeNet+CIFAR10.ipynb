{
 "cells": [
  {
   "cell_type": "code",
   "execution_count": 2,
   "metadata": {},
   "outputs": [
    {
     "name": "stdout",
     "output_type": "stream",
     "text": [
      "Train data shape:  (49000, 32, 32, 3)\n",
      "Train labels shape:  (49000, 10) float32\n",
      "Validation data shape:  (1000, 32, 32, 3)\n",
      "Validation labels shape:  (1000, 10)\n",
      "Test data shape:  (1000, 32, 32, 3)\n",
      "Test labels shape:  (1000, 10)\n",
      "Epoch 1/10\n",
      "766/766 - 34s - loss: 1.7029 - accuracy: 0.4173 - val_loss: 1.1960 - val_accuracy: 0.5700\n",
      "Epoch 2/10\n",
      "766/766 - 34s - loss: 1.3045 - accuracy: 0.5447 - val_loss: 0.9603 - val_accuracy: 0.6520\n",
      "Epoch 3/10\n",
      "766/766 - 35s - loss: 1.1350 - accuracy: 0.6041 - val_loss: 0.8841 - val_accuracy: 0.6870\n",
      "Epoch 4/10\n",
      "766/766 - 35s - loss: 1.0233 - accuracy: 0.6416 - val_loss: 0.8362 - val_accuracy: 0.7070\n",
      "Epoch 5/10\n",
      "766/766 - 35s - loss: 0.9504 - accuracy: 0.6702 - val_loss: 0.8115 - val_accuracy: 0.7210\n",
      "Epoch 6/10\n",
      "766/766 - 42s - loss: 0.8842 - accuracy: 0.6889 - val_loss: 0.7649 - val_accuracy: 0.7470\n",
      "Epoch 7/10\n",
      "766/766 - 48s - loss: 0.8441 - accuracy: 0.7010 - val_loss: 0.7728 - val_accuracy: 0.7480\n",
      "Epoch 8/10\n",
      "766/766 - 48s - loss: 0.7961 - accuracy: 0.7204 - val_loss: 0.7906 - val_accuracy: 0.7330\n",
      "Epoch 9/10\n",
      "766/766 - 54s - loss: 0.7518 - accuracy: 0.7334 - val_loss: 0.7474 - val_accuracy: 0.7460\n",
      "Epoch 10/10\n",
      "766/766 - 49s - loss: 0.7206 - accuracy: 0.7452 - val_loss: 0.7062 - val_accuracy: 0.7680\n"
     ]
    },
    {
     "data": {
      "image/png": "[encoded data removed]",
      "text/plain": [
       "<Figure size 432x288 with 1 Axes>"
      ]
     },
     "metadata": {
      "needs_background": "light"
     },
     "output_type": "display_data"
    },
    {
     "ename": "KeyError",
     "evalue": "'acc'",
     "output_type": "error",
     "traceback": [
      "\u001b[1;31m---------------------------------------------------------------------------\u001b[0m",
      "\u001b[1;31mKeyError\u001b[0m                                  Traceback (most recent call last)",
      "\u001b[1;32m<ipython-input-2-24870cb27866>\u001b[0m in \u001b[0;36m<module>\u001b[1;34m\u001b[0m\n\u001b[0;32m     84\u001b[0m \u001b[0mplt\u001b[0m\u001b[1;33m.\u001b[0m\u001b[0mshow\u001b[0m\u001b[1;33m(\u001b[0m\u001b[1;33m)\u001b[0m\u001b[1;33m\u001b[0m\u001b[1;33m\u001b[0m\u001b[0m\n\u001b[0;32m     85\u001b[0m \u001b[0mplt\u001b[0m\u001b[1;33m.\u001b[0m\u001b[0mfigure\u001b[0m\u001b[1;33m(\u001b[0m\u001b[1;33m)\u001b[0m\u001b[1;33m\u001b[0m\u001b[1;33m\u001b[0m\u001b[0m\n\u001b[1;32m---> 86\u001b[1;33m \u001b[0mplt\u001b[0m\u001b[1;33m.\u001b[0m\u001b[0mplot\u001b[0m\u001b[1;33m(\u001b[0m\u001b[0mhistory\u001b[0m\u001b[1;33m.\u001b[0m\u001b[0mhistory\u001b[0m\u001b[1;33m[\u001b[0m\u001b[1;34m'acc'\u001b[0m\u001b[1;33m]\u001b[0m\u001b[1;33m)\u001b[0m\u001b[1;33m\u001b[0m\u001b[1;33m\u001b[0m\u001b[0m\n\u001b[0m\u001b[0;32m     87\u001b[0m \u001b[0mplt\u001b[0m\u001b[1;33m.\u001b[0m\u001b[0mplot\u001b[0m\u001b[1;33m(\u001b[0m\u001b[0mhistory\u001b[0m\u001b[1;33m.\u001b[0m\u001b[0mhistory\u001b[0m\u001b[1;33m[\u001b[0m\u001b[1;34m'val_acc'\u001b[0m\u001b[1;33m]\u001b[0m\u001b[1;33m)\u001b[0m\u001b[1;33m\u001b[0m\u001b[1;33m\u001b[0m\u001b[0m\n\u001b[0;32m     88\u001b[0m \u001b[0mplt\u001b[0m\u001b[1;33m.\u001b[0m\u001b[0mtitle\u001b[0m\u001b[1;33m(\u001b[0m\u001b[1;34m\"model acc\"\u001b[0m\u001b[1;33m)\u001b[0m\u001b[1;33m\u001b[0m\u001b[1;33m\u001b[0m\u001b[0m\n",
      "\u001b[1;31mKeyError\u001b[0m: 'acc'"
     ]
    },
    {
     "data": {
      "text/plain": [
       "<Figure size 432x288 with 0 Axes>"
      ]
     },
     "metadata": {},
     "output_type": "display_data"
    }
   ],
   "source": [
    "import tensorflow as tf\n",
    "import numpy as np\n",
    "import matplotlib.pyplot as plt\n",
    "import keras\n",
    "from keras import layers\n",
    "\n",
    "\n",
    "def load_cifar10(num_training=49000, num_validation=1000, num_test=1000):\n",
    "    # Fetch the CIFAR-10 dataset from the web\n",
    "    cifar10 = keras.datasets.cifar10.load_data()\n",
    "    (X_train, y_train), (X_test, y_test) = cifar10\n",
    "    X_train = np.asarray(X_train, dtype=np.float32)\n",
    "    y_train = np.asarray(y_train, dtype=np.int32).flatten()\n",
    "    X_test = np.asarray(X_test, dtype=np.float32)\n",
    "    y_test = np.asarray(y_test, dtype=np.int32).flatten()\n",
    "    # Subsample the data\n",
    "    mask = range(num_training, num_training + num_validation)\n",
    "    X_val = X_train[mask]\n",
    "    y_val = y_train[mask]\n",
    "    mask = range(num_training)\n",
    "    X_train = X_train[mask]\n",
    "    y_train = y_train[mask]\n",
    "    mask = range(num_test)\n",
    "    X_test = X_test[mask]\n",
    "    y_test = y_test[mask]\n",
    "    # Normaliza the data: subtract the mean pixel and divide by std\n",
    "    mean_pixel = X_train.mean(axis=(0, 1, 2), keepdims=True)\n",
    "    std_pixel = X_train.std(axis=(0, 1, 2), keepdims=True)\n",
    "    X_train = (X_train - mean_pixel) / std_pixel\n",
    "    X_val = (X_val - mean_pixel) / std_pixel\n",
    "    X_test = (X_test - mean_pixel) / std_pixel\n",
    "    # one-hot the labels\n",
    "    y_train = keras.utils.to_categorical(y_train, 10)\n",
    "    y_val = keras.utils.to_categorical(y_val, 10)\n",
    "    y_test = keras.utils.to_categorical(y_test, 10)\n",
    "\n",
    "    return X_train, y_train, X_val, y_val, X_test, y_test\n",
    "\n",
    "\n",
    "# Invoke the above function to get our data.\n",
    "X_train, y_train, X_val, y_val, X_test, y_test = load_cifar10()\n",
    "print('Train data shape: ', X_train.shape)\n",
    "print('Train labels shape: ', y_train.shape, y_train.dtype)\n",
    "print('Validation data shape: ', X_val.shape)\n",
    "print('Validation labels shape: ', y_val.shape)\n",
    "print('Test data shape: ', X_test.shape)\n",
    "print('Test labels shape: ', y_test.shape)\n",
    "\n",
    "\n",
    "def simple_model(input_shape, num_classes=10):\n",
    "    # Define the input placeholder as a tensor with shape input_shape.\n",
    "    X_input = layers.Input(input_shape)\n",
    "\n",
    "    X = layers.Conv2D(filters=16, kernel_size=5, padding='same',\n",
    "                      activation='relu')(X_input)\n",
    "    X = layers.BatchNormalization(axis=3)(X)\n",
    "    X = layers.MaxPool2D(strides=(2, 2))(X)\n",
    "    X = layers.Conv2D(filters=32, kernel_size=5, padding='same',\n",
    "                      activation='relu')(X)\n",
    "    X = layers.BatchNormalization(axis=3)(X)\n",
    "    X = layers.MaxPool2D(strides=(2, 2))(X)\n",
    "    X = layers.Flatten()(X)\n",
    "    X = layers.Dense(500)(X)\n",
    "    X = layers.BatchNormalization(scale=False)(X)\n",
    "    X = layers.Activation(activation='relu')(X)\n",
    "    X = layers.Dropout(rate=0.7)(X)\n",
    "    X = layers.Dense(num_classes, activation='softmax')(X)\n",
    "\n",
    "    model = keras.Model(X_input, X)\n",
    "\n",
    "    return model\n",
    "\n",
    "\n",
    "model = simple_model((32, 32, 3), 10)\n",
    "model.compile(optimizer=keras.optimizers.SGD(lr=1e-2, momentum=0.9, nesterov=True),\n",
    "              loss=keras.losses.categorical_crossentropy, metrics=[\"accuracy\"])\n",
    "history = model.fit(X_train, y_train, epochs=10, batch_size=64, verbose=2, validation_data=(X_val, y_val))\n",
    "plt.plot(history.history['loss'])\n",
    "plt.plot(history.history['val_loss'])\n",
    "plt.title(\"model loss\")\n",
    "plt.ylabel(\"loss\")\n",
    "plt.xlabel(\"epoch\")\n",
    "plt.legend([\"train\",\"val\"],loc=\"upper left\")\n",
    "plt.show()\n",
    "plt.figure()\n",
    "plt.plot(history.history['acc'])\n",
    "plt.plot(history.history['val_acc'])\n",
    "plt.title(\"model acc\")\n",
    "plt.ylabel(\"acc\")\n",
    "plt.xlabel(\"epoch\")\n",
    "plt.legend([\"train\",\"val\"],loc=\"upper left\")\n",
    "plt.show()\n",
    "\n",
    "preds = model.evaluate(x=X_train, y=y_train)\n",
    "print()\n",
    "print(\"Train Loss = \" + str(preds[0]))\n",
    "print(\"Train Accuracy = \" + str(preds[1]))\n",
    "\n",
    "preds = model.evaluate(x=X_val, y=y_val)\n",
    "print()\n",
    "print(\"Val Loss = \" + str(preds[0]))\n",
    "print(\"Val Accuracy = \" + str(preds[1]))"
   ]
  },
  {
   "cell_type": "code",
   "execution_count": null,
   "metadata": {},
   "outputs": [],
   "source": []
  },
  {
   "cell_type": "code",
   "execution_count": null,
   "metadata": {},
   "outputs": [],
   "source": []
  }
 ],
 "metadata": {
  "kernelspec": {
   "display_name": "Python 3",
   "language": "python",
   "name": "python3"
  },
  "language_info": {
   "codemirror_mode": {
    "name": "ipython",
    "version": 3
   },
   "file_extension": ".py",
   "mimetype": "text/x-python",
   "name": "python",
   "nbconvert_exporter": "python",
   "pygments_lexer": "ipython3",
   "version": "3.8.5"
  }
 },
 "nbformat": 4,
 "nbformat_minor": 4
}
