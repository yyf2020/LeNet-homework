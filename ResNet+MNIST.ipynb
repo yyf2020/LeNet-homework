{
 "cells": [
  {
   "cell_type": "code",
   "execution_count": null,
   "metadata": {},
   "outputs": [
    {
     "name": "stdout",
     "output_type": "stream",
     "text": [
      "Downloading http://yann.lecun.com/exdb/mnist/train-images-idx3-ubyte.gz to ./MNIST\\MNIST\\raw\\train-images-idx3-ubyte.gz\n"
     ]
    },
    {
     "data": {
      "application/vnd.jupyter.widget-view+json": {
       "model_id": "07b051e2eeb34807884c08b77df78767",
       "version_major": 2,
       "version_minor": 0
      },
      "text/plain": [
       "HBox(children=(HTML(value=''), FloatProgress(value=1.0, bar_style='info', layout=Layout(width='20px'), max=1.0…"
      ]
     },
     "metadata": {},
     "output_type": "display_data"
    },
    {
     "name": "stdout",
     "output_type": "stream",
     "text": [
      "Extracting ./MNIST\\MNIST\\raw\\train-images-idx3-ubyte.gz to ./MNIST\\MNIST\\raw\n",
      "Downloading http://yann.lecun.com/exdb/mnist/train-labels-idx1-ubyte.gz to ./MNIST\\MNIST\\raw\\train-labels-idx1-ubyte.gz\n"
     ]
    },
    {
     "data": {
      "application/vnd.jupyter.widget-view+json": {
       "model_id": "403484b10a434de4af891a08e2023007",
       "version_major": 2,
       "version_minor": 0
      },
      "text/plain": [
       "HBox(children=(HTML(value=''), FloatProgress(value=1.0, bar_style='info', layout=Layout(width='20px'), max=1.0…"
      ]
     },
     "metadata": {},
     "output_type": "display_data"
    },
    {
     "name": "stdout",
     "output_type": "stream",
     "text": [
      "Extracting ./MNIST\\MNIST\\raw\\train-labels-idx1-ubyte.gz to ./MNIST\\MNIST\\raw\n",
      "Downloading http://yann.lecun.com/exdb/mnist/t10k-images-idx3-ubyte.gz to ./MNIST\\MNIST\\raw\\t10k-images-idx3-ubyte.gz\n",
      "\n"
     ]
    },
    {
     "data": {
      "application/vnd.jupyter.widget-view+json": {
       "model_id": "089e43aa752449b28025d81211cec303",
       "version_major": 2,
       "version_minor": 0
      },
      "text/plain": [
       "HBox(children=(HTML(value=''), FloatProgress(value=1.0, bar_style='info', layout=Layout(width='20px'), max=1.0…"
      ]
     },
     "metadata": {},
     "output_type": "display_data"
    },
    {
     "name": "stdout",
     "output_type": "stream",
     "text": [
      "Extracting ./MNIST\\MNIST\\raw\\t10k-images-idx3-ubyte.gz to ./MNIST\\MNIST\\raw\n",
      "Downloading http://yann.lecun.com/exdb/mnist/t10k-labels-idx1-ubyte.gz to ./MNIST\\MNIST\\raw\\t10k-labels-idx1-ubyte.gz\n"
     ]
    },
    {
     "data": {
      "application/vnd.jupyter.widget-view+json": {
       "model_id": "20d80cb50de64cd3a26cd0a76e8d6c2f",
       "version_major": 2,
       "version_minor": 0
      },
      "text/plain": [
       "HBox(children=(HTML(value=''), FloatProgress(value=1.0, bar_style='info', layout=Layout(width='20px'), max=1.0…"
      ]
     },
     "metadata": {},
     "output_type": "display_data"
    },
    {
     "name": "stdout",
     "output_type": "stream",
     "text": [
      "Extracting ./MNIST\\MNIST\\raw\\t10k-labels-idx1-ubyte.gz to ./MNIST\\MNIST\\raw\n",
      "Processing...\n"
     ]
    },
    {
     "name": "stderr",
     "output_type": "stream",
     "text": [
      "C:\\Users\\Y\\anaconda3\\lib\\site-packages\\torchvision\\datasets\\mnist.py:480: UserWarning: The given NumPy array is not writeable, and PyTorch does not support non-writeable tensors. This means you can write to the underlying (supposedly non-writeable) NumPy array using the tensor. You may want to copy the array to protect its data or make it writeable before converting it to a tensor. This type of warning will be suppressed for the rest of this program. (Triggered internally at  ..\\torch\\csrc\\utils\\tensor_numpy.cpp:141.)\n",
      "  return torch.from_numpy(parsed.astype(m[2], copy=False)).view(*s)\n"
     ]
    },
    {
     "name": "stdout",
     "output_type": "stream",
     "text": [
      "Done!\n",
      "\n",
      "Epoch: 10 |loss2.3135 |accuracy0.0921\n",
      "Epoch: 10 |loss1.8626 |accuracy0.4475\n",
      "Epoch: 10 |loss1.4989 |accuracy0.6058\n",
      "Epoch: 10 |loss1.2257 |accuracy0.7392\n",
      "Epoch: 10 |loss1.0060 |accuracy0.8281\n",
      "Epoch: 10 |loss0.8622 |accuracy0.8821\n",
      "Epoch: 10 |loss0.6831 |accuracy0.9186\n",
      "Epoch: 10 |loss0.5503 |accuracy0.9375\n",
      "Epoch: 10 |loss0.4396 |accuracy0.9439\n",
      "Epoch: 10 |loss0.3517 |accuracy0.9528\n",
      "Epoch: 10 |loss0.3097 |accuracy0.9564\n",
      "Epoch: 10 |loss0.2684 |accuracy0.9598\n",
      "Epoch: 10 |loss0.2298 |accuracy0.9634\n",
      "Epoch: 10 |loss0.2132 |accuracy0.9639\n",
      "Epoch: 10 |loss0.1893 |accuracy0.9670\n",
      "Epoch: 10 |loss0.1837 |accuracy0.9674\n",
      "Epoch: 10 |loss0.1659 |accuracy0.9700\n",
      "Epoch: 10 |loss0.1493 |accuracy0.9714\n",
      "Epoch: 10 |loss0.1411 |accuracy0.9738\n",
      "Epoch: 10 |loss0.1333 |accuracy0.9737\n",
      "Epoch: 10 |loss0.1291 |accuracy0.9747\n",
      "Epoch: 10 |loss0.1240 |accuracy0.9757\n",
      "Epoch: 10 |loss0.1152 |accuracy0.9768\n",
      "Epoch: 10 |loss0.1132 |accuracy0.9769\n",
      "Epoch: 10 |loss0.1072 |accuracy0.9780\n",
      "Epoch: 10 |loss0.1035 |accuracy0.9789\n",
      "Epoch: 10 |loss0.0979 |accuracy0.9804\n",
      "Epoch: 10 |loss0.0964 |accuracy0.9796\n",
      "Epoch: 10 |loss0.0932 |accuracy0.9802\n",
      "Epoch: 10 |loss0.0932 |accuracy0.9796\n",
      "Epoch: 10 |loss0.0897 |accuracy0.9800\n",
      "Epoch: 10 |loss0.0859 |accuracy0.9807\n",
      "Epoch: 10 |loss0.0894 |accuracy0.9787\n",
      "Epoch: 10 |loss0.0847 |accuracy0.9819\n",
      "Epoch: 10 |loss0.0773 |accuracy0.9817\n",
      "Epoch: 10 |loss0.0776 |accuracy0.9814\n",
      "Epoch: 10 |loss0.0740 |accuracy0.9831\n",
      "Epoch: 10 |loss0.0754 |accuracy0.9827\n",
      "Epoch: 10 |loss0.0705 |accuracy0.9840\n",
      "Epoch: 10 |loss0.0726 |accuracy0.9833\n",
      "Epoch: 10 |loss0.0705 |accuracy0.9842\n",
      "Epoch: 10 |loss0.0697 |accuracy0.9836\n"
     ]
    }
   ],
   "source": [
    "# -*- coding: utf-8 -*-\n",
    "\n",
    "\n",
    "import torch\n",
    "import torchvision\n",
    "import torch.nn as nn\n",
    "import torch.nn.functional as F\n",
    "import torch.utils.data as Data\n",
    "import matplotlib.pyplot as plt\n",
    "\n",
    "# define hyper parameters\n",
    "Batch_size = 128\n",
    "Lr = 0.01\n",
    "Epoch = 10\n",
    "# define train set and test set\n",
    "train_dataset = torchvision.datasets.MNIST(\n",
    "    root='./MNIST',\n",
    "    train=True,\n",
    "    download=True,\n",
    "    transform=torchvision.transforms.ToTensor()\n",
    ")\n",
    "test_dataset = torchvision.datasets.MNIST(\n",
    "    root='./MNISt',\n",
    "    train=False,\n",
    "    download=True,\n",
    "    transform=torchvision.transforms.ToTensor()\n",
    ")\n",
    "# define train loader\n",
    "train_loader = Data.DataLoader(\n",
    "    dataset=train_dataset,\n",
    "    shuffle=True,\n",
    "    batch_size=Batch_size\n",
    ")\n",
    "test_x = torch.unsqueeze(test_dataset.data, dim=1).type(torch.Tensor)\n",
    "test_y = test_dataset.targets\n",
    "# print(test_y.shape, test_x.shape)\n",
    "\n",
    "# construct network\n",
    "class Basicblock(nn.Module):\n",
    "    def __init__(self, in_planes, planes, stride=1):\n",
    "        super(Basicblock, self).__init__()\n",
    "        self.conv1 = nn.Sequential(\n",
    "            nn.Conv2d(in_channels=in_planes, out_channels=planes, kernel_size=3, stride=stride, padding=1, bias=False),\n",
    "            nn.BatchNorm2d(planes),\n",
    "            nn.ReLU()\n",
    "        )\n",
    "        self.conv2 = nn.Sequential(\n",
    "            nn.Conv2d(in_channels=planes, out_channels=planes, kernel_size=3, stride=1, padding=1, bias=False),\n",
    "            nn.BatchNorm2d(planes),\n",
    "        )\n",
    "\n",
    "        if stride != 1 or in_planes != planes:\n",
    "            self.shortcut = nn.Sequential(\n",
    "                nn.Conv2d(in_channels=in_planes, out_channels=planes, kernel_size=3, stride=stride, padding=1),\n",
    "                nn.BatchNorm2d(planes)\n",
    "            )\n",
    "        else:\n",
    "            self.shortcut = nn.Sequential()\n",
    "\n",
    "    def forward(self, x):\n",
    "        out = self.conv1(x)\n",
    "        out = self.conv2(out)\n",
    "        out += self.shortcut(x)\n",
    "        out = F.relu(out)\n",
    "        return out\n",
    "\n",
    "class ResNet(nn.Module):\n",
    "    def __init__(self, block, num_block, num_classes):\n",
    "        super(ResNet, self).__init__()\n",
    "        self.in_planes = 16\n",
    "        self.conv1 = nn.Sequential(\n",
    "            nn.Conv2d(in_channels=1, out_channels=16, kernel_size=3, stride=1, padding=1),\n",
    "            nn.BatchNorm2d(16),\n",
    "            nn.ReLU()\n",
    "        )\n",
    "        self.maxpool = nn.MaxPool2d(kernel_size=3, stride=1, padding=1)\n",
    "\n",
    "        self.block1 = self._make_layer(block, 16, num_block[0], stride=1)\n",
    "        self.block2 = self._make_layer(block, 32, num_block[1], stride=2)\n",
    "        self.block3 = self._make_layer(block, 64, num_block[2], stride=2)\n",
    "        # self.block4 = self._make_layer(block, 512, num_block[3], stride=2)\n",
    "\n",
    "        self.outlayer = nn.Linear(64, num_classes)\n",
    "\n",
    "    def _make_layer(self, block, planes, num_block, stride):\n",
    "        layers = []\n",
    "        for i in range(num_block):\n",
    "            if i == 0:\n",
    "                layers.append(block(self.in_planes, planes, stride))\n",
    "            else:\n",
    "                layers.append(block(planes, planes, 1))\n",
    "        self.in_planes = planes\n",
    "        return nn.Sequential(*layers)\n",
    "\n",
    "    def forward(self, x):\n",
    "        x = self.maxpool(self.conv1(x))\n",
    "        x = self.block1(x)                       # [200, 64, 28, 28]\n",
    "        x = self.block2(x)                       # [200, 128, 14, 14]\n",
    "        x = self.block3(x)                       # [200, 256, 7, 7]\n",
    "        # out = self.block4(out)\n",
    "        x = F.avg_pool2d(x, 7)                   # [200, 256, 1, 1]\n",
    "        x = x.view(x.size(0), -1)                # [200,256]\n",
    "        out = self.outlayer(x)\n",
    "        return out\n",
    "\n",
    "ResNet18 = ResNet(Basicblock, [1, 1, 1, 1], 10)\n",
    "# print(ResNet18)\n",
    "\n",
    "opt = torch.optim.SGD(ResNet18.parameters(), lr=Lr)\n",
    "loss_fun = nn.CrossEntropyLoss()\n",
    "a = []\n",
    "ac_list = []\n",
    "for epoch in range(Epoch):\n",
    "    for i, (x, y) in enumerate(train_loader):\n",
    "        output = ResNet18(x)\n",
    "        loss = loss_fun(output, y)\n",
    "        opt.zero_grad()\n",
    "        loss.backward()\n",
    "        opt.step()\n",
    "\n",
    "        if i % 100 == 0:\n",
    "            a.append(i)\n",
    "            test_output = torch.max(ResNet18(test_x), dim=1)[1]\n",
    "            loss = loss_fun(ResNet18(test_x), test_y).item()\n",
    "            accuracy = torch.sum(torch.eq(test_y, test_output)).item() / test_y.numpy().size\n",
    "            ac_list.append(accuracy)\n",
    "            print('Epoch:', Epoch, '|loss%.4f' % loss, '|accuracy%.4f' % accuracy)\n",
    "\n",
    "print('real value', test_y[: 10].numpy())\n",
    "print('train value', torch.max(ResNet18(test_x)[: 10], dim=1)[1].numpy())\n",
    "\n",
    "plt.plot(a, ac_list, color='r')\n",
    "plt.show()"
   ]
  },
  {
   "cell_type": "code",
   "execution_count": null,
   "metadata": {},
   "outputs": [],
   "source": []
  }
 ],
 "metadata": {
  "kernelspec": {
   "display_name": "Python 3",
   "language": "python",
   "name": "python3"
  },
  "language_info": {
   "codemirror_mode": {
    "name": "ipython",
    "version": 3
   },
   "file_extension": ".py",
   "mimetype": "text/x-python",
   "name": "python",
   "nbconvert_exporter": "python",
   "pygments_lexer": "ipython3",
   "version": "3.8.5"
  }
 },
 "nbformat": 4,
 "nbformat_minor": 4
}
